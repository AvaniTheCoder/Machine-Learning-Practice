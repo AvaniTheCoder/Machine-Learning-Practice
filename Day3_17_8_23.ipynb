{
  "nbformat": 4,
  "nbformat_minor": 0,
  "metadata": {
    "colab": {
      "provenance": [],
      "authorship_tag": "ABX9TyNBb2d9ds//Dinj77Sl/Xnl",
      "include_colab_link": true
    },
    "kernelspec": {
      "name": "python3",
      "display_name": "Python 3"
    },
    "language_info": {
      "name": "python"
    }
  },
  "cells": [
    {
      "cell_type": "markdown",
      "metadata": {
        "id": "view-in-github",
        "colab_type": "text"
      },
      "source": [
        "<a href=\"https://colab.research.google.com/github/AvaniTheCoder/Machine-Learning-Practice/blob/main/Day3_17_8_23.ipynb\" target=\"_parent\"><img src=\"https://colab.research.google.com/assets/colab-badge.svg\" alt=\"Open In Colab\"/></a>"
      ]
    },
    {
      "cell_type": "code",
      "execution_count": null,
      "metadata": {
        "colab": {
          "base_uri": "https://localhost:8080/"
        },
        "id": "Jj-ZJlfYwuGM",
        "outputId": "b38dc7ab-4f49-4a48-cd25-aebaf9933fb5"
      },
      "outputs": [
        {
          "output_type": "stream",
          "name": "stdout",
          "text": [
            "Python list: [1, 2, 3, 4, 5]\n",
            "Numpy array: [1 2 3 4 5]\n"
          ]
        }
      ],
      "source": [
        "#comparing list and array\n",
        "import numpy as np\n",
        "python_list = [1,2,3,4,5]\n",
        "numpy_array = np.array(python_list)\n",
        "\n",
        "print(\"Python list:\",python_list)\n",
        "print(\"Numpy array:\",numpy_array)"
      ]
    },
    {
      "cell_type": "code",
      "source": [
        "python_list[0:2]"
      ],
      "metadata": {
        "colab": {
          "base_uri": "https://localhost:8080/"
        },
        "id": "tHujgucVx8Ow",
        "outputId": "c826df7b-e592-4729-a300-ea88357d1831"
      },
      "execution_count": null,
      "outputs": [
        {
          "output_type": "execute_result",
          "data": {
            "text/plain": [
              "[1, 2]"
            ]
          },
          "metadata": {},
          "execution_count": 6
        }
      ]
    },
    {
      "cell_type": "code",
      "source": [
        "numpy_array[1:]"
      ],
      "metadata": {
        "colab": {
          "base_uri": "https://localhost:8080/"
        },
        "id": "wLMoUn9GyWkj",
        "outputId": "b84a8ca7-af47-4cfe-9fcd-e1bec2f573cd"
      },
      "execution_count": null,
      "outputs": [
        {
          "output_type": "execute_result",
          "data": {
            "text/plain": [
              "array([2, 3, 4, 5])"
            ]
          },
          "metadata": {},
          "execution_count": 10
        }
      ]
    },
    {
      "cell_type": "code",
      "source": [
        "arr1 =np.array([1,2,3,4,5])\n",
        "print(\"Array created using np.array()\",arr1)"
      ],
      "metadata": {
        "colab": {
          "base_uri": "https://localhost:8080/"
        },
        "id": "xGzDq_ZmzEmM",
        "outputId": "e2580d17-5144-41db-adcd-b159d4052d2f"
      },
      "execution_count": null,
      "outputs": [
        {
          "output_type": "stream",
          "name": "stdout",
          "text": [
            "Array created using np.array() [1 2 3 4 5]\n"
          ]
        }
      ]
    },
    {
      "cell_type": "code",
      "source": [
        "#Generates arrays in ordered list by skipping 2\n",
        "arr2=np.arange(0,10,2)\n",
        "print(\"Array created using np.arange()\",arr2)"
      ],
      "metadata": {
        "colab": {
          "base_uri": "https://localhost:8080/"
        },
        "id": "01mZjRFGzQT7",
        "outputId": "ab17eb20-fc9b-4820-aaa1-02ec1ad03692"
      },
      "execution_count": null,
      "outputs": [
        {
          "output_type": "stream",
          "name": "stdout",
          "text": [
            "Array created using np.arange() [0 2 4 6 8]\n"
          ]
        }
      ]
    },
    {
      "cell_type": "code",
      "source": [
        "shape = arr1.shape\n",
        "dtype = arr1.dtype\n",
        "dimension = arr1.ndim\n",
        "print(shape)\n",
        "print(dtype)\n",
        "print(dimension)"
      ],
      "metadata": {
        "colab": {
          "base_uri": "https://localhost:8080/"
        },
        "id": "9qSPNvP7z2Oj",
        "outputId": "c4d81cb0-2459-4aaf-cac6-53f23439f1b9"
      },
      "execution_count": null,
      "outputs": [
        {
          "output_type": "stream",
          "name": "stdout",
          "text": [
            "(5,)\n",
            "int64\n",
            "1\n"
          ]
        }
      ]
    },
    {
      "cell_type": "code",
      "source": [
        "arr3 = np.array([10,20,30,40,50])\n",
        "add_result = arr1+ arr3\n",
        "mul_result= arr1*2\n",
        "print(add_result)\n",
        "print(mul_result)"
      ],
      "metadata": {
        "colab": {
          "base_uri": "https://localhost:8080/"
        },
        "id": "omA98F6I1I5s",
        "outputId": "26cb7101-3040-4a07-daa1-9419073ad212"
      },
      "execution_count": null,
      "outputs": [
        {
          "output_type": "stream",
          "name": "stdout",
          "text": [
            "[11 22 33 44 55]\n",
            "[ 2  4  6  8 10]\n"
          ]
        }
      ]
    },
    {
      "cell_type": "code",
      "source": [
        "#Baic arithmetic operations\n",
        "array1 = np.array([10,20,30])\n",
        "array2 = np.array([11,22,33])\n",
        "array3 = np.array([40,50,60])\n",
        "array4 = np.array([70,80,90])\n",
        "\n",
        "print(\"Sum:\",array1+array2+array3+array4)\n",
        "print(\"Difference:\",array1-array2-array3-array4)\n",
        "print(\"Product:\",array1*array2*array3*array4)"
      ],
      "metadata": {
        "colab": {
          "base_uri": "https://localhost:8080/"
        },
        "id": "Th7bZLVs15T7",
        "outputId": "aaf8a110-36bf-4398-ed9c-924e3f72add4"
      },
      "execution_count": null,
      "outputs": [
        {
          "output_type": "stream",
          "name": "stdout",
          "text": [
            "Sum: [131 172 213]\n",
            "Difference: [-111 -132 -153]\n",
            "Product: [ 308000 1760000 5346000]\n"
          ]
        }
      ]
    },
    {
      "cell_type": "code",
      "source": [
        "#Broadcasting: Operating on arrays of different shapes\n",
        "\n",
        "broadcasted_result=arr1+10\n",
        "print(\"Broadcasted addition\",broadcasted_result)"
      ],
      "metadata": {
        "colab": {
          "base_uri": "https://localhost:8080/"
        },
        "id": "PpnGncZD27K8",
        "outputId": "2c34b7de-3ecb-443c-be12-18ac2ee30a8a"
      },
      "execution_count": null,
      "outputs": [
        {
          "output_type": "stream",
          "name": "stdout",
          "text": [
            "Broadcasted addition [11 12 13 14 15]\n"
          ]
        }
      ]
    },
    {
      "cell_type": "code",
      "source": [
        "#Numpy arithmetic universal functions\n",
        "sqrt_result = np.sqrt(arr3)\n",
        "exp_result = np.exp(arr3)\n",
        "\n",
        "print(\"square root:\",sqrt_result)\n",
        "print(\"Exponential:\",exp_result)"
      ],
      "metadata": {
        "colab": {
          "base_uri": "https://localhost:8080/"
        },
        "id": "GnXYv9uW3Z8f",
        "outputId": "e24a023a-d524-4011-d36a-ec0605a9734a"
      },
      "execution_count": null,
      "outputs": [
        {
          "output_type": "stream",
          "name": "stdout",
          "text": [
            "square root: [3.16227766 4.47213595 5.47722558 6.32455532 7.07106781]\n",
            "Exponential: [2.20264658e+04 4.85165195e+08 1.06864746e+13 2.35385267e+17\n",
            " 5.18470553e+21]\n"
          ]
        }
      ]
    },
    {
      "cell_type": "code",
      "source": [
        "#Intro to Data Frame\n",
        "\n",
        "import pandas as pd\n",
        "#creating a sample dataframe\n",
        "data = {\n",
        "    'Name':['Alice','Bob','Charlie'],\n",
        "    'Age':[25,30,28]\n",
        "}\n",
        "\n",
        "df = pd.DataFrame(data)\n",
        "print(df)"
      ],
      "metadata": {
        "colab": {
          "base_uri": "https://localhost:8080/"
        },
        "id": "JI-InbzYZzC1",
        "outputId": "9b0f98b1-e9a1-4f72-ba7f-40a0b6fc9741"
      },
      "execution_count": null,
      "outputs": [
        {
          "output_type": "stream",
          "name": "stdout",
          "text": [
            "      Name  Age\n",
            "0    Alice   25\n",
            "1      Bob   30\n",
            "2  Charlie   28\n"
          ]
        }
      ]
    },
    {
      "cell_type": "code",
      "source": [
        "#Loading and exploring data from excel\n",
        "data = pd.read_csv('/content/dsml1 - Sheet1.csv')\n",
        "print(data)"
      ],
      "metadata": {
        "colab": {
          "base_uri": "https://localhost:8080/"
        },
        "id": "aMK2oY-YadJu",
        "outputId": "89b5ea0e-1a1d-4088-c17f-3d5f40e7fb36"
      },
      "execution_count": null,
      "outputs": [
        {
          "output_type": "stream",
          "name": "stdout",
          "text": [
            "   Roll no     Name Class Division\n",
            "0        1    Avani    Ty        A\n",
            "1        2    Gauri    Fy        B\n",
            "2        3  Deepali    Sy        A\n",
            "3        4    Priya    Ty        D\n",
            "4        5   Anjali    Sy        A\n"
          ]
        }
      ]
    },
    {
      "cell_type": "code",
      "source": [
        "d1=pd.DataFrame(data)\n",
        "print(d1)\n",
        "#Display first few rows\n",
        "print(data.head())\n",
        "\n",
        "#Display data information\n",
        "print(data.info())\n",
        "\n",
        "#Summary statistics of data\n",
        "print(data.describe())\n"
      ],
      "metadata": {
        "colab": {
          "base_uri": "https://localhost:8080/"
        },
        "id": "MBjiwj9AkjKi",
        "outputId": "bf1fa973-e27a-402a-ddf5-81a755a6bd07"
      },
      "execution_count": null,
      "outputs": [
        {
          "output_type": "stream",
          "name": "stdout",
          "text": [
            "   Roll no     Name Class Division\n",
            "0        1    Avani    Ty        A\n",
            "1        2    Gauri    Fy        B\n",
            "2        3  Deepali    Sy        A\n",
            "3        4    Priya    Ty        D\n",
            "4        5   Anjali    Sy        A\n",
            "   Roll no     Name Class Division\n",
            "0        1    Avani    Ty        A\n",
            "1        2    Gauri    Fy        B\n",
            "2        3  Deepali    Sy        A\n",
            "3        4    Priya    Ty        D\n",
            "4        5   Anjali    Sy        A\n",
            "<class 'pandas.core.frame.DataFrame'>\n",
            "RangeIndex: 5 entries, 0 to 4\n",
            "Data columns (total 4 columns):\n",
            " #   Column    Non-Null Count  Dtype \n",
            "---  ------    --------------  ----- \n",
            " 0   Roll no   5 non-null      int64 \n",
            " 1   Name      5 non-null      object\n",
            " 2   Class     5 non-null      object\n",
            " 3   Division  5 non-null      object\n",
            "dtypes: int64(1), object(3)\n",
            "memory usage: 288.0+ bytes\n",
            "None\n",
            "        Roll no\n",
            "count  5.000000\n",
            "mean   3.000000\n",
            "std    1.581139\n",
            "min    1.000000\n",
            "25%    2.000000\n",
            "50%    3.000000\n",
            "75%    4.000000\n",
            "max    5.000000\n"
          ]
        }
      ]
    },
    {
      "cell_type": "code",
      "source": [
        "#Data manipulation\n",
        "#filtering and selecting data\n",
        "filtered_data= data[data['Roll no']>3]\n",
        "selected_column = data[['Name','Class']]\n",
        "\n",
        "print(filtered_data)\n",
        "\n",
        "print(selected_column)\n",
        "\n",
        "#Soting data\n",
        "sorted_data = data.sort_values(by='Roll no',ascending=False)\n",
        "print(sorted_data)\n",
        "\n",
        "#Aggregation and grouping\n",
        "grouped_data = data.groupby('Roll no').count()\n",
        "print(grouped_data)\n"
      ],
      "metadata": {
        "colab": {
          "base_uri": "https://localhost:8080/"
        },
        "id": "9RL0p-hJlSxG",
        "outputId": "3195d36d-2ca4-499f-cd8e-b55e8028a31f"
      },
      "execution_count": null,
      "outputs": [
        {
          "output_type": "stream",
          "name": "stdout",
          "text": [
            "   Roll no    Name Class Division\n",
            "3        4   Priya    Ty        D\n",
            "4        5  Anjali    Sy        A\n",
            "      Name Class\n",
            "0    Avani    Ty\n",
            "1    Gauri    Fy\n",
            "2  Deepali    Sy\n",
            "3    Priya    Ty\n",
            "4   Anjali    Sy\n",
            "   Roll no     Name Class Division\n",
            "4        5   Anjali    Sy        A\n",
            "3        4    Priya    Ty        D\n",
            "2        3  Deepali    Sy        A\n",
            "1        2    Gauri    Fy        B\n",
            "0        1    Avani    Ty        A\n",
            "         Name  Class  Division\n",
            "Roll no                       \n",
            "1           1      1         1\n",
            "2           1      1         1\n",
            "3           1      1         1\n",
            "4           1      1         1\n",
            "5           1      1         1\n"
          ]
        }
      ]
    },
    {
      "cell_type": "code",
      "source": [
        "#Extras: create a dataframe of 10 rows and 6 columns 1st column, its patient name, patient id,age,bp,diabetic yes or no ,weight and height, calculate bmi 2 graph 1notation, 1 prediction\n",
        "\n",
        "import pandas as pd\n",
        "import numpy as np\n",
        "from sklearn.linear_model import LogisticRegression\n",
        "import matplotlib.pyplot as plt\n",
        "from sklearn.model_selection import train_test_split\n",
        "from sklearn.metrics import accuracy_score\n",
        "\n",
        "data = {\n",
        "    'Patient_name':['dipali','gauri','avani','sabahat','prachi','nisha','shilpa','sakshi','savani','roma'],\n",
        "    'Patient_id':np.arange(100,120,2),\n",
        "    'Age':np.arange(20,40,2),\n",
        "    'Bp':[60,65,70,82,90,85,98,100,110,115],\n",
        "    'Diabetic':[False,False,False,True,True,True,True,False,False,True],\n",
        "    'Weight':[55,63,45,89,75,80,85,52,67,110],\n",
        "    'Height':[158,160,157,147,170,173,162,168,171,165]\n",
        "}\n",
        "df = pd.DataFrame(data)\n",
        "df"
      ],
      "metadata": {
        "colab": {
          "base_uri": "https://localhost:8080/",
          "height": 363
        },
        "id": "lHUgnqXBzCJA",
        "outputId": "7fa5401a-3fa8-4353-9568-13a0937eda06"
      },
      "execution_count": null,
      "outputs": [
        {
          "output_type": "execute_result",
          "data": {
            "text/plain": [
              "  Patient_name  Patient_id  Age   Bp  Diabetic  Weight  Height\n",
              "0       dipali         100   20   60     False      55     158\n",
              "1        gauri         102   22   65     False      63     160\n",
              "2        avani         104   24   70     False      45     157\n",
              "3      sabahat         106   26   82      True      89     147\n",
              "4       prachi         108   28   90      True      75     170\n",
              "5        nisha         110   30   85      True      80     173\n",
              "6       shilpa         112   32   98      True      85     162\n",
              "7       sakshi         114   34  100     False      52     168\n",
              "8       savani         116   36  110     False      67     171\n",
              "9         roma         118   38  115      True     110     165"
            ],
            "text/html": [
              "\n",
              "\n",
              "  <div id=\"df-fbc0c2d3-14b8-4631-9e76-c4e7abcd958e\">\n",
              "    <div class=\"colab-df-container\">\n",
              "      <div>\n",
              "<style scoped>\n",
              "    .dataframe tbody tr th:only-of-type {\n",
              "        vertical-align: middle;\n",
              "    }\n",
              "\n",
              "    .dataframe tbody tr th {\n",
              "        vertical-align: top;\n",
              "    }\n",
              "\n",
              "    .dataframe thead th {\n",
              "        text-align: right;\n",
              "    }\n",
              "</style>\n",
              "<table border=\"1\" class=\"dataframe\">\n",
              "  <thead>\n",
              "    <tr style=\"text-align: right;\">\n",
              "      <th></th>\n",
              "      <th>Patient_name</th>\n",
              "      <th>Patient_id</th>\n",
              "      <th>Age</th>\n",
              "      <th>Bp</th>\n",
              "      <th>Diabetic</th>\n",
              "      <th>Weight</th>\n",
              "      <th>Height</th>\n",
              "    </tr>\n",
              "  </thead>\n",
              "  <tbody>\n",
              "    <tr>\n",
              "      <th>0</th>\n",
              "      <td>dipali</td>\n",
              "      <td>100</td>\n",
              "      <td>20</td>\n",
              "      <td>60</td>\n",
              "      <td>False</td>\n",
              "      <td>55</td>\n",
              "      <td>158</td>\n",
              "    </tr>\n",
              "    <tr>\n",
              "      <th>1</th>\n",
              "      <td>gauri</td>\n",
              "      <td>102</td>\n",
              "      <td>22</td>\n",
              "      <td>65</td>\n",
              "      <td>False</td>\n",
              "      <td>63</td>\n",
              "      <td>160</td>\n",
              "    </tr>\n",
              "    <tr>\n",
              "      <th>2</th>\n",
              "      <td>avani</td>\n",
              "      <td>104</td>\n",
              "      <td>24</td>\n",
              "      <td>70</td>\n",
              "      <td>False</td>\n",
              "      <td>45</td>\n",
              "      <td>157</td>\n",
              "    </tr>\n",
              "    <tr>\n",
              "      <th>3</th>\n",
              "      <td>sabahat</td>\n",
              "      <td>106</td>\n",
              "      <td>26</td>\n",
              "      <td>82</td>\n",
              "      <td>True</td>\n",
              "      <td>89</td>\n",
              "      <td>147</td>\n",
              "    </tr>\n",
              "    <tr>\n",
              "      <th>4</th>\n",
              "      <td>prachi</td>\n",
              "      <td>108</td>\n",
              "      <td>28</td>\n",
              "      <td>90</td>\n",
              "      <td>True</td>\n",
              "      <td>75</td>\n",
              "      <td>170</td>\n",
              "    </tr>\n",
              "    <tr>\n",
              "      <th>5</th>\n",
              "      <td>nisha</td>\n",
              "      <td>110</td>\n",
              "      <td>30</td>\n",
              "      <td>85</td>\n",
              "      <td>True</td>\n",
              "      <td>80</td>\n",
              "      <td>173</td>\n",
              "    </tr>\n",
              "    <tr>\n",
              "      <th>6</th>\n",
              "      <td>shilpa</td>\n",
              "      <td>112</td>\n",
              "      <td>32</td>\n",
              "      <td>98</td>\n",
              "      <td>True</td>\n",
              "      <td>85</td>\n",
              "      <td>162</td>\n",
              "    </tr>\n",
              "    <tr>\n",
              "      <th>7</th>\n",
              "      <td>sakshi</td>\n",
              "      <td>114</td>\n",
              "      <td>34</td>\n",
              "      <td>100</td>\n",
              "      <td>False</td>\n",
              "      <td>52</td>\n",
              "      <td>168</td>\n",
              "    </tr>\n",
              "    <tr>\n",
              "      <th>8</th>\n",
              "      <td>savani</td>\n",
              "      <td>116</td>\n",
              "      <td>36</td>\n",
              "      <td>110</td>\n",
              "      <td>False</td>\n",
              "      <td>67</td>\n",
              "      <td>171</td>\n",
              "    </tr>\n",
              "    <tr>\n",
              "      <th>9</th>\n",
              "      <td>roma</td>\n",
              "      <td>118</td>\n",
              "      <td>38</td>\n",
              "      <td>115</td>\n",
              "      <td>True</td>\n",
              "      <td>110</td>\n",
              "      <td>165</td>\n",
              "    </tr>\n",
              "  </tbody>\n",
              "</table>\n",
              "</div>\n",
              "      <button class=\"colab-df-convert\" onclick=\"convertToInteractive('df-fbc0c2d3-14b8-4631-9e76-c4e7abcd958e')\"\n",
              "              title=\"Convert this dataframe to an interactive table.\"\n",
              "              style=\"display:none;\">\n",
              "\n",
              "  <svg xmlns=\"http://www.w3.org/2000/svg\" height=\"24px\"viewBox=\"0 0 24 24\"\n",
              "       width=\"24px\">\n",
              "    <path d=\"M0 0h24v24H0V0z\" fill=\"none\"/>\n",
              "    <path d=\"M18.56 5.44l.94 2.06.94-2.06 2.06-.94-2.06-.94-.94-2.06-.94 2.06-2.06.94zm-11 1L8.5 8.5l.94-2.06 2.06-.94-2.06-.94L8.5 2.5l-.94 2.06-2.06.94zm10 10l.94 2.06.94-2.06 2.06-.94-2.06-.94-.94-2.06-.94 2.06-2.06.94z\"/><path d=\"M17.41 7.96l-1.37-1.37c-.4-.4-.92-.59-1.43-.59-.52 0-1.04.2-1.43.59L10.3 9.45l-7.72 7.72c-.78.78-.78 2.05 0 2.83L4 21.41c.39.39.9.59 1.41.59.51 0 1.02-.2 1.41-.59l7.78-7.78 2.81-2.81c.8-.78.8-2.07 0-2.86zM5.41 20L4 18.59l7.72-7.72 1.47 1.35L5.41 20z\"/>\n",
              "  </svg>\n",
              "      </button>\n",
              "\n",
              "\n",
              "\n",
              "    <div id=\"df-d7057388-ab41-44c4-b584-259883696aff\">\n",
              "      <button class=\"colab-df-quickchart\" onclick=\"quickchart('df-d7057388-ab41-44c4-b584-259883696aff')\"\n",
              "              title=\"Suggest charts.\"\n",
              "              style=\"display:none;\">\n",
              "\n",
              "<svg xmlns=\"http://www.w3.org/2000/svg\" height=\"24px\"viewBox=\"0 0 24 24\"\n",
              "     width=\"24px\">\n",
              "    <g>\n",
              "        <path d=\"M19 3H5c-1.1 0-2 .9-2 2v14c0 1.1.9 2 2 2h14c1.1 0 2-.9 2-2V5c0-1.1-.9-2-2-2zM9 17H7v-7h2v7zm4 0h-2V7h2v10zm4 0h-2v-4h2v4z\"/>\n",
              "    </g>\n",
              "</svg>\n",
              "      </button>\n",
              "    </div>\n",
              "\n",
              "<style>\n",
              "  .colab-df-quickchart {\n",
              "    background-color: #E8F0FE;\n",
              "    border: none;\n",
              "    border-radius: 50%;\n",
              "    cursor: pointer;\n",
              "    display: none;\n",
              "    fill: #1967D2;\n",
              "    height: 32px;\n",
              "    padding: 0 0 0 0;\n",
              "    width: 32px;\n",
              "  }\n",
              "\n",
              "  .colab-df-quickchart:hover {\n",
              "    background-color: #E2EBFA;\n",
              "    box-shadow: 0px 1px 2px rgba(60, 64, 67, 0.3), 0px 1px 3px 1px rgba(60, 64, 67, 0.15);\n",
              "    fill: #174EA6;\n",
              "  }\n",
              "\n",
              "  [theme=dark] .colab-df-quickchart {\n",
              "    background-color: #3B4455;\n",
              "    fill: #D2E3FC;\n",
              "  }\n",
              "\n",
              "  [theme=dark] .colab-df-quickchart:hover {\n",
              "    background-color: #434B5C;\n",
              "    box-shadow: 0px 1px 3px 1px rgba(0, 0, 0, 0.15);\n",
              "    filter: drop-shadow(0px 1px 2px rgba(0, 0, 0, 0.3));\n",
              "    fill: #FFFFFF;\n",
              "  }\n",
              "</style>\n",
              "\n",
              "    <script>\n",
              "      async function quickchart(key) {\n",
              "        const containerElement = document.querySelector('#' + key);\n",
              "        const charts = await google.colab.kernel.invokeFunction(\n",
              "            'suggestCharts', [key], {});\n",
              "      }\n",
              "    </script>\n",
              "\n",
              "\n",
              "      <script>\n",
              "\n",
              "function displayQuickchartButton(domScope) {\n",
              "  let quickchartButtonEl =\n",
              "    domScope.querySelector('#df-d7057388-ab41-44c4-b584-259883696aff button.colab-df-quickchart');\n",
              "  quickchartButtonEl.style.display =\n",
              "    google.colab.kernel.accessAllowed ? 'block' : 'none';\n",
              "}\n",
              "\n",
              "        displayQuickchartButton(document);\n",
              "      </script>\n",
              "      <style>\n",
              "    .colab-df-container {\n",
              "      display:flex;\n",
              "      flex-wrap:wrap;\n",
              "      gap: 12px;\n",
              "    }\n",
              "\n",
              "    .colab-df-convert {\n",
              "      background-color: #E8F0FE;\n",
              "      border: none;\n",
              "      border-radius: 50%;\n",
              "      cursor: pointer;\n",
              "      display: none;\n",
              "      fill: #1967D2;\n",
              "      height: 32px;\n",
              "      padding: 0 0 0 0;\n",
              "      width: 32px;\n",
              "    }\n",
              "\n",
              "    .colab-df-convert:hover {\n",
              "      background-color: #E2EBFA;\n",
              "      box-shadow: 0px 1px 2px rgba(60, 64, 67, 0.3), 0px 1px 3px 1px rgba(60, 64, 67, 0.15);\n",
              "      fill: #174EA6;\n",
              "    }\n",
              "\n",
              "    [theme=dark] .colab-df-convert {\n",
              "      background-color: #3B4455;\n",
              "      fill: #D2E3FC;\n",
              "    }\n",
              "\n",
              "    [theme=dark] .colab-df-convert:hover {\n",
              "      background-color: #434B5C;\n",
              "      box-shadow: 0px 1px 3px 1px rgba(0, 0, 0, 0.15);\n",
              "      filter: drop-shadow(0px 1px 2px rgba(0, 0, 0, 0.3));\n",
              "      fill: #FFFFFF;\n",
              "    }\n",
              "  </style>\n",
              "\n",
              "      <script>\n",
              "        const buttonEl =\n",
              "          document.querySelector('#df-fbc0c2d3-14b8-4631-9e76-c4e7abcd958e button.colab-df-convert');\n",
              "        buttonEl.style.display =\n",
              "          google.colab.kernel.accessAllowed ? 'block' : 'none';\n",
              "\n",
              "        async function convertToInteractive(key) {\n",
              "          const element = document.querySelector('#df-fbc0c2d3-14b8-4631-9e76-c4e7abcd958e');\n",
              "          const dataTable =\n",
              "            await google.colab.kernel.invokeFunction('convertToInteractive',\n",
              "                                                     [key], {});\n",
              "          if (!dataTable) return;\n",
              "\n",
              "          const docLinkHtml = 'Like what you see? Visit the ' +\n",
              "            '<a target=\"_blank\" href=https://colab.research.google.com/notebooks/data_table.ipynb>data table notebook</a>'\n",
              "            + ' to learn more about interactive tables.';\n",
              "          element.innerHTML = '';\n",
              "          dataTable['output_type'] = 'display_data';\n",
              "          await google.colab.output.renderOutput(dataTable, element);\n",
              "          const docLink = document.createElement('div');\n",
              "          docLink.innerHTML = docLinkHtml;\n",
              "          element.appendChild(docLink);\n",
              "        }\n",
              "      </script>\n",
              "    </div>\n",
              "  </div>\n"
            ]
          },
          "metadata": {},
          "execution_count": 40
        }
      ]
    },
    {
      "cell_type": "code",
      "source": [
        "df['BMI']=(df['Weight'])/((df['Height']/100)*(df['Height']/100))\n",
        "df"
      ],
      "metadata": {
        "colab": {
          "base_uri": "https://localhost:8080/",
          "height": 363
        },
        "id": "EYUlEBpL8tZ9",
        "outputId": "afcfa900-a698-42ee-df3b-bf8f55b0b547"
      },
      "execution_count": null,
      "outputs": [
        {
          "output_type": "execute_result",
          "data": {
            "text/plain": [
              "  Patient_name  Patient_id  Age   Bp  Diabetic  Weight  Height        BMI\n",
              "0       dipali         100   20   60     False      55     158  22.031726\n",
              "1        gauri         102   22   65     False      63     160  24.609375\n",
              "2        avani         104   24   70     False      45     157  18.256319\n",
              "3      sabahat         106   26   82      True      89     147  41.186543\n",
              "4       prachi         108   28   90      True      75     170  25.951557\n",
              "5        nisha         110   30   85      True      80     173  26.729927\n",
              "6       shilpa         112   32   98      True      85     162  32.388355\n",
              "7       sakshi         114   34  100     False      52     168  18.424036\n",
              "8       savani         116   36  110     False      67     171  22.913033\n",
              "9         roma         118   38  115      True     110     165  40.404040"
            ],
            "text/html": [
              "\n",
              "\n",
              "  <div id=\"df-689c69bd-aa35-4154-b10b-0f83373fb1ae\">\n",
              "    <div class=\"colab-df-container\">\n",
              "      <div>\n",
              "<style scoped>\n",
              "    .dataframe tbody tr th:only-of-type {\n",
              "        vertical-align: middle;\n",
              "    }\n",
              "\n",
              "    .dataframe tbody tr th {\n",
              "        vertical-align: top;\n",
              "    }\n",
              "\n",
              "    .dataframe thead th {\n",
              "        text-align: right;\n",
              "    }\n",
              "</style>\n",
              "<table border=\"1\" class=\"dataframe\">\n",
              "  <thead>\n",
              "    <tr style=\"text-align: right;\">\n",
              "      <th></th>\n",
              "      <th>Patient_name</th>\n",
              "      <th>Patient_id</th>\n",
              "      <th>Age</th>\n",
              "      <th>Bp</th>\n",
              "      <th>Diabetic</th>\n",
              "      <th>Weight</th>\n",
              "      <th>Height</th>\n",
              "      <th>BMI</th>\n",
              "    </tr>\n",
              "  </thead>\n",
              "  <tbody>\n",
              "    <tr>\n",
              "      <th>0</th>\n",
              "      <td>dipali</td>\n",
              "      <td>100</td>\n",
              "      <td>20</td>\n",
              "      <td>60</td>\n",
              "      <td>False</td>\n",
              "      <td>55</td>\n",
              "      <td>158</td>\n",
              "      <td>22.031726</td>\n",
              "    </tr>\n",
              "    <tr>\n",
              "      <th>1</th>\n",
              "      <td>gauri</td>\n",
              "      <td>102</td>\n",
              "      <td>22</td>\n",
              "      <td>65</td>\n",
              "      <td>False</td>\n",
              "      <td>63</td>\n",
              "      <td>160</td>\n",
              "      <td>24.609375</td>\n",
              "    </tr>\n",
              "    <tr>\n",
              "      <th>2</th>\n",
              "      <td>avani</td>\n",
              "      <td>104</td>\n",
              "      <td>24</td>\n",
              "      <td>70</td>\n",
              "      <td>False</td>\n",
              "      <td>45</td>\n",
              "      <td>157</td>\n",
              "      <td>18.256319</td>\n",
              "    </tr>\n",
              "    <tr>\n",
              "      <th>3</th>\n",
              "      <td>sabahat</td>\n",
              "      <td>106</td>\n",
              "      <td>26</td>\n",
              "      <td>82</td>\n",
              "      <td>True</td>\n",
              "      <td>89</td>\n",
              "      <td>147</td>\n",
              "      <td>41.186543</td>\n",
              "    </tr>\n",
              "    <tr>\n",
              "      <th>4</th>\n",
              "      <td>prachi</td>\n",
              "      <td>108</td>\n",
              "      <td>28</td>\n",
              "      <td>90</td>\n",
              "      <td>True</td>\n",
              "      <td>75</td>\n",
              "      <td>170</td>\n",
              "      <td>25.951557</td>\n",
              "    </tr>\n",
              "    <tr>\n",
              "      <th>5</th>\n",
              "      <td>nisha</td>\n",
              "      <td>110</td>\n",
              "      <td>30</td>\n",
              "      <td>85</td>\n",
              "      <td>True</td>\n",
              "      <td>80</td>\n",
              "      <td>173</td>\n",
              "      <td>26.729927</td>\n",
              "    </tr>\n",
              "    <tr>\n",
              "      <th>6</th>\n",
              "      <td>shilpa</td>\n",
              "      <td>112</td>\n",
              "      <td>32</td>\n",
              "      <td>98</td>\n",
              "      <td>True</td>\n",
              "      <td>85</td>\n",
              "      <td>162</td>\n",
              "      <td>32.388355</td>\n",
              "    </tr>\n",
              "    <tr>\n",
              "      <th>7</th>\n",
              "      <td>sakshi</td>\n",
              "      <td>114</td>\n",
              "      <td>34</td>\n",
              "      <td>100</td>\n",
              "      <td>False</td>\n",
              "      <td>52</td>\n",
              "      <td>168</td>\n",
              "      <td>18.424036</td>\n",
              "    </tr>\n",
              "    <tr>\n",
              "      <th>8</th>\n",
              "      <td>savani</td>\n",
              "      <td>116</td>\n",
              "      <td>36</td>\n",
              "      <td>110</td>\n",
              "      <td>False</td>\n",
              "      <td>67</td>\n",
              "      <td>171</td>\n",
              "      <td>22.913033</td>\n",
              "    </tr>\n",
              "    <tr>\n",
              "      <th>9</th>\n",
              "      <td>roma</td>\n",
              "      <td>118</td>\n",
              "      <td>38</td>\n",
              "      <td>115</td>\n",
              "      <td>True</td>\n",
              "      <td>110</td>\n",
              "      <td>165</td>\n",
              "      <td>40.404040</td>\n",
              "    </tr>\n",
              "  </tbody>\n",
              "</table>\n",
              "</div>\n",
              "      <button class=\"colab-df-convert\" onclick=\"convertToInteractive('df-689c69bd-aa35-4154-b10b-0f83373fb1ae')\"\n",
              "              title=\"Convert this dataframe to an interactive table.\"\n",
              "              style=\"display:none;\">\n",
              "\n",
              "  <svg xmlns=\"http://www.w3.org/2000/svg\" height=\"24px\"viewBox=\"0 0 24 24\"\n",
              "       width=\"24px\">\n",
              "    <path d=\"M0 0h24v24H0V0z\" fill=\"none\"/>\n",
              "    <path d=\"M18.56 5.44l.94 2.06.94-2.06 2.06-.94-2.06-.94-.94-2.06-.94 2.06-2.06.94zm-11 1L8.5 8.5l.94-2.06 2.06-.94-2.06-.94L8.5 2.5l-.94 2.06-2.06.94zm10 10l.94 2.06.94-2.06 2.06-.94-2.06-.94-.94-2.06-.94 2.06-2.06.94z\"/><path d=\"M17.41 7.96l-1.37-1.37c-.4-.4-.92-.59-1.43-.59-.52 0-1.04.2-1.43.59L10.3 9.45l-7.72 7.72c-.78.78-.78 2.05 0 2.83L4 21.41c.39.39.9.59 1.41.59.51 0 1.02-.2 1.41-.59l7.78-7.78 2.81-2.81c.8-.78.8-2.07 0-2.86zM5.41 20L4 18.59l7.72-7.72 1.47 1.35L5.41 20z\"/>\n",
              "  </svg>\n",
              "      </button>\n",
              "\n",
              "\n",
              "\n",
              "    <div id=\"df-35be19a7-820b-4034-aa8f-048d217be03b\">\n",
              "      <button class=\"colab-df-quickchart\" onclick=\"quickchart('df-35be19a7-820b-4034-aa8f-048d217be03b')\"\n",
              "              title=\"Suggest charts.\"\n",
              "              style=\"display:none;\">\n",
              "\n",
              "<svg xmlns=\"http://www.w3.org/2000/svg\" height=\"24px\"viewBox=\"0 0 24 24\"\n",
              "     width=\"24px\">\n",
              "    <g>\n",
              "        <path d=\"M19 3H5c-1.1 0-2 .9-2 2v14c0 1.1.9 2 2 2h14c1.1 0 2-.9 2-2V5c0-1.1-.9-2-2-2zM9 17H7v-7h2v7zm4 0h-2V7h2v10zm4 0h-2v-4h2v4z\"/>\n",
              "    </g>\n",
              "</svg>\n",
              "      </button>\n",
              "    </div>\n",
              "\n",
              "<style>\n",
              "  .colab-df-quickchart {\n",
              "    background-color: #E8F0FE;\n",
              "    border: none;\n",
              "    border-radius: 50%;\n",
              "    cursor: pointer;\n",
              "    display: none;\n",
              "    fill: #1967D2;\n",
              "    height: 32px;\n",
              "    padding: 0 0 0 0;\n",
              "    width: 32px;\n",
              "  }\n",
              "\n",
              "  .colab-df-quickchart:hover {\n",
              "    background-color: #E2EBFA;\n",
              "    box-shadow: 0px 1px 2px rgba(60, 64, 67, 0.3), 0px 1px 3px 1px rgba(60, 64, 67, 0.15);\n",
              "    fill: #174EA6;\n",
              "  }\n",
              "\n",
              "  [theme=dark] .colab-df-quickchart {\n",
              "    background-color: #3B4455;\n",
              "    fill: #D2E3FC;\n",
              "  }\n",
              "\n",
              "  [theme=dark] .colab-df-quickchart:hover {\n",
              "    background-color: #434B5C;\n",
              "    box-shadow: 0px 1px 3px 1px rgba(0, 0, 0, 0.15);\n",
              "    filter: drop-shadow(0px 1px 2px rgba(0, 0, 0, 0.3));\n",
              "    fill: #FFFFFF;\n",
              "  }\n",
              "</style>\n",
              "\n",
              "    <script>\n",
              "      async function quickchart(key) {\n",
              "        const containerElement = document.querySelector('#' + key);\n",
              "        const charts = await google.colab.kernel.invokeFunction(\n",
              "            'suggestCharts', [key], {});\n",
              "      }\n",
              "    </script>\n",
              "\n",
              "\n",
              "      <script>\n",
              "\n",
              "function displayQuickchartButton(domScope) {\n",
              "  let quickchartButtonEl =\n",
              "    domScope.querySelector('#df-35be19a7-820b-4034-aa8f-048d217be03b button.colab-df-quickchart');\n",
              "  quickchartButtonEl.style.display =\n",
              "    google.colab.kernel.accessAllowed ? 'block' : 'none';\n",
              "}\n",
              "\n",
              "        displayQuickchartButton(document);\n",
              "      </script>\n",
              "      <style>\n",
              "    .colab-df-container {\n",
              "      display:flex;\n",
              "      flex-wrap:wrap;\n",
              "      gap: 12px;\n",
              "    }\n",
              "\n",
              "    .colab-df-convert {\n",
              "      background-color: #E8F0FE;\n",
              "      border: none;\n",
              "      border-radius: 50%;\n",
              "      cursor: pointer;\n",
              "      display: none;\n",
              "      fill: #1967D2;\n",
              "      height: 32px;\n",
              "      padding: 0 0 0 0;\n",
              "      width: 32px;\n",
              "    }\n",
              "\n",
              "    .colab-df-convert:hover {\n",
              "      background-color: #E2EBFA;\n",
              "      box-shadow: 0px 1px 2px rgba(60, 64, 67, 0.3), 0px 1px 3px 1px rgba(60, 64, 67, 0.15);\n",
              "      fill: #174EA6;\n",
              "    }\n",
              "\n",
              "    [theme=dark] .colab-df-convert {\n",
              "      background-color: #3B4455;\n",
              "      fill: #D2E3FC;\n",
              "    }\n",
              "\n",
              "    [theme=dark] .colab-df-convert:hover {\n",
              "      background-color: #434B5C;\n",
              "      box-shadow: 0px 1px 3px 1px rgba(0, 0, 0, 0.15);\n",
              "      filter: drop-shadow(0px 1px 2px rgba(0, 0, 0, 0.3));\n",
              "      fill: #FFFFFF;\n",
              "    }\n",
              "  </style>\n",
              "\n",
              "      <script>\n",
              "        const buttonEl =\n",
              "          document.querySelector('#df-689c69bd-aa35-4154-b10b-0f83373fb1ae button.colab-df-convert');\n",
              "        buttonEl.style.display =\n",
              "          google.colab.kernel.accessAllowed ? 'block' : 'none';\n",
              "\n",
              "        async function convertToInteractive(key) {\n",
              "          const element = document.querySelector('#df-689c69bd-aa35-4154-b10b-0f83373fb1ae');\n",
              "          const dataTable =\n",
              "            await google.colab.kernel.invokeFunction('convertToInteractive',\n",
              "                                                     [key], {});\n",
              "          if (!dataTable) return;\n",
              "\n",
              "          const docLinkHtml = 'Like what you see? Visit the ' +\n",
              "            '<a target=\"_blank\" href=https://colab.research.google.com/notebooks/data_table.ipynb>data table notebook</a>'\n",
              "            + ' to learn more about interactive tables.';\n",
              "          element.innerHTML = '';\n",
              "          dataTable['output_type'] = 'display_data';\n",
              "          await google.colab.output.renderOutput(dataTable, element);\n",
              "          const docLink = document.createElement('div');\n",
              "          docLink.innerHTML = docLinkHtml;\n",
              "          element.appendChild(docLink);\n",
              "        }\n",
              "      </script>\n",
              "    </div>\n",
              "  </div>\n"
            ]
          },
          "metadata": {},
          "execution_count": 42
        }
      ]
    },
    {
      "cell_type": "code",
      "source": [
        "plt.plot(df['Age'], df['Bp'], label ='Value1')\n",
        "plt.plot(df['Age'], df['Bp'], label ='Value2')\n",
        "plt.xlabel('Age')\n",
        "plt.ylabel('Bp')\n",
        "plt.title('Line plot')\n",
        "plt.legend()\n",
        "plt.show()"
      ],
      "metadata": {
        "colab": {
          "base_uri": "https://localhost:8080/",
          "height": 472
        },
        "id": "kKGRd4TwDnv0",
        "outputId": "40dfbb3d-c1e1-4582-ffdb-00d6238b2c18"
      },
      "execution_count": null,
      "outputs": [
        {
          "output_type": "display_data",
          "data": {
            "text/plain": [
              "<Figure size 640x480 with 1 Axes>"
            ],
            "image/png": "[encoded data removed]"
          },
          "metadata": {}
        }
      ]
    },
    {
      "cell_type": "code",
      "source": [
        "plt.scatter(df['Diabetic'],df['Weight'])\n",
        "plt.xlabel('Diabetic')\n",
        "plt.xlabel('Weight')\n",
        "plt.title('Weight vs Diabetic')\n",
        "plt.show()"
      ],
      "metadata": {
        "colab": {
          "base_uri": "https://localhost:8080/",
          "height": 472
        },
        "id": "yYZEc4THE_sO",
        "outputId": "3c996890-06b3-4aea-d009-3608fead306b"
      },
      "execution_count": null,
      "outputs": [
        {
          "output_type": "display_data",
          "data": {
            "text/plain": [
              "<Figure size 640x480 with 1 Axes>"
            ],
            "image/png": "[encoded data removed]"
          },
          "metadata": {}
        }
      ]
    },
    {
      "cell_type": "code",
      "source": [
        "#Logistic Regression\n",
        "X=df[['Age','Bp','Weight','Height','BMI']]\n",
        "y=df['Diabetic']\n",
        "\n",
        "model=LogisticRegression()\n",
        "model.fit(X,y)\n",
        "\n",
        "new_data= {\n",
        "    'Age':[25],\n",
        "    'Bp':[75],\n",
        "    'Weight':[65],\n",
        "    'Height':[165],\n",
        "    'BMI':[24]\n",
        "}\n",
        "df1 = pd.DataFrame(new_data)\n",
        "predictions=model.predict(df1)\n",
        "print(df1)\n",
        "print(predictions)\n",
        "\n",
        "\n",
        "\n",
        "#output will be descreete values"
      ],
      "metadata": {
        "colab": {
          "base_uri": "https://localhost:8080/"
        },
        "id": "gZDJP0jR-jXD",
        "outputId": "b3084e31-a97b-493d-c281-ff9e67ee550b"
      },
      "execution_count": null,
      "outputs": [
        {
          "output_type": "stream",
          "name": "stdout",
          "text": [
            "   Age  Bp  Weight  Height  BMI\n",
            "0   25  75      65     165   24\n",
            "[False]\n"
          ]
        }
      ]
    },
    {
      "cell_type": "code",
      "source": [
        "#Create 5 numpy array of 4 elements each and print its square root\n",
        "\n",
        "import numpy as np\n",
        "arr1 = np.array([1,2,3,4])\n",
        "arr2 = np.array([10,20,30,40])\n",
        "arr3 = np.array([11,12,13,14])\n",
        "arr4 = np.array([21,32,43,54])\n",
        "arr5 = np.array([101,112,123,134])\n",
        "\n",
        "ans = (arr1+arr2)-(arr3+arr4)\n",
        "print(ans)\n",
        "square = np.sqrt(arr1)\n",
        "print(square)"
      ],
      "metadata": {
        "colab": {
          "base_uri": "https://localhost:8080/"
        },
        "id": "9H_rV2IV3gia",
        "outputId": "7f15522c-68a7-4431-c1e4-97c826b6628a"
      },
      "execution_count": null,
      "outputs": [
        {
          "output_type": "stream",
          "name": "stdout",
          "text": [
            "[-21 -22 -23 -24]\n",
            "[1.         1.41421356 1.73205081 2.        ]\n"
          ]
        }
      ]
    },
    {
      "cell_type": "code",
      "source": [],
      "metadata": {
        "id": "BklanCsf4CvZ"
      },
      "execution_count": null,
      "outputs": []
    }
  ]
}