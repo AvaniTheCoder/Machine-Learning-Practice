{
  "nbformat": 4,
  "nbformat_minor": 0,
  "metadata": {
    "colab": {
      "provenance": [],
      "authorship_tag": "ABX9TyOc66HQAISlOgTAf4q5RD+g",
      "include_colab_link": true
    },
    "kernelspec": {
      "name": "python3",
      "display_name": "Python 3"
    },
    "language_info": {
      "name": "python"
    }
  },
  "cells": [
    {
      "cell_type": "markdown",
      "metadata": {
        "id": "view-in-github",
        "colab_type": "text"
      },
      "source": [
        "<a href=\"https://colab.research.google.com/github/AvaniTheCoder/Machine-Learning-Practice/blob/main/Day10_06_10_23_Classifiers_and_Classification_ipynb.ipynb\" target=\"_parent\"><img src=\"https://colab.research.google.com/assets/colab-badge.svg\" alt=\"Open In Colab\"/></a>"
      ]
    },
    {
      "cell_type": "code",
      "execution_count": null,
      "metadata": {
        "id": "gYMOB1mwULQn"
      },
      "outputs": [],
      "source": [
        "#Classifiers should have dependent variable to be catagorical mandatory"
      ]
    },
    {
      "cell_type": "markdown",
      "source": [],
      "metadata": {
        "id": "0I7NuUDLZUsF"
      }
    },
    {
      "cell_type": "code",
      "source": [
        "import pandas as pd\n",
        "import numpy as np\n",
        "from sklearn.model_selection import train_test_split\n",
        "from sklearn.tree import DecisionTreeClassifier\n",
        "from sklearn.metrics import accuracy_score\n",
        "\n",
        "\n",
        "# Create a dictionary with columns for independent variables (features) and a dependent variable\n",
        "data = {\n",
        "    'SquareFeet': [1000, 1500, 2000, 2500, 3000, 3500, 4000, 4500],\n",
        "    'Bedrooms': [2,2,3,3,4,4,5,5],\n",
        "    'Bathrooms': [1,2,2,3,3,4,4,5],\n",
        "    'PriceCategory': ['Affordable','Affordable','Affordable','Affordable','Luxury','Luxury','Luxury','Luxury'],\n",
        "}\n",
        "\n",
        "# Create a DataFrame\n",
        "df = pd.DataFrame(data)\n",
        "\n",
        "# Display the DataFrame\n",
        "print(df)\n"
      ],
      "metadata": {
        "colab": {
          "base_uri": "https://localhost:8080/"
        },
        "id": "lXI_rL-eWuxH",
        "outputId": "cd49c778-e702-46b6-ee08-64f83484e56b"
      },
      "execution_count": null,
      "outputs": [
        {
          "output_type": "stream",
          "name": "stdout",
          "text": [
            "   SquareFeet  Bedrooms  Bathrooms PriceCategory\n",
            "0        1000         2          1    Affordable\n",
            "1        1500         2          2    Affordable\n",
            "2        2000         3          2    Affordable\n",
            "3        2500         3          3    Affordable\n",
            "4        3000         4          3        Luxury\n",
            "5        3500         4          4        Luxury\n",
            "6        4000         5          4        Luxury\n",
            "7        4500         5          5        Luxury\n"
          ]
        }
      ]
    },
    {
      "cell_type": "code",
      "source": [
        "#Split the dataset into training and testing sets\n",
        "X = df[['SquareFeet','Bedrooms','Bathrooms']]\n",
        "y = df['PriceCategory']\n",
        "\n",
        "# Split the data into training and testing sets\n",
        "X_train ,X_test, y_train, y_test = train_test_split(X,y,test_size = 0.2, random_state = 42)\n",
        "\n",
        "#Initialize and train a inear regression model\n",
        "clf = DecisionTreeClassifier(random_state=42)\n",
        "clf.fit(X_train, y_train)\n",
        "\n",
        "#Make predictions on the test set\n",
        "y_pred = clf.predict(X_test)\n",
        "\n",
        "#Evaluate the model\n",
        "accuracy = accuracy_score(y_test,y_pred)\n",
        "\n",
        "print(f\"Accuracy: {accuracy*100:.2f}%\")  #To print till 2 decimal places\n"
      ],
      "metadata": {
        "colab": {
          "base_uri": "https://localhost:8080/"
        },
        "id": "A8HIbp0dYMEr",
        "outputId": "afdbe251-1b7b-476c-da62-7f6fec94c5ff"
      },
      "execution_count": null,
      "outputs": [
        {
          "output_type": "stream",
          "name": "stdout",
          "text": [
            "Accuracy: 100.00%\n"
          ]
        }
      ]
    },
    {
      "cell_type": "code",
      "source": [
        "#New input\n",
        "new_data = {\n",
        "    'SquareFeet':[2800],\n",
        "    'Bedrooms':[3],\n",
        "    'Bathrooms':[2]\n",
        "}\n",
        "#Create a dataframe for new input data\n",
        "new_df = pd.DataFrame(new_data)\n",
        "\n",
        "#Use the trained classifier to make predictions for the new data\n",
        "new_predictions=clf.predict(new_df)\n",
        "\n",
        "#Print the predicted cataegory\n",
        "print(\"Predicted Category for the new data:\")\n",
        "for prediction in new_predictions:\n",
        "  print(prediction)"
      ],
      "metadata": {
        "colab": {
          "base_uri": "https://localhost:8080/"
        },
        "id": "sRiG0VCgZXCj",
        "outputId": "83b0b0dd-cb8c-4e08-86d9-3bf87e7e4db6"
      },
      "execution_count": null,
      "outputs": [
        {
          "output_type": "stream",
          "name": "stdout",
          "text": [
            "Predicted Category for the new data:\n",
            "Affordable\n"
          ]
        }
      ]
    },
    {
      "cell_type": "code",
      "source": [
        "#Assignment\n",
        "import pandas as pd\n",
        "\n",
        "# Create the DataFrame\n",
        "data = {\n",
        "    'Age': [25, 30, 22, 35, 28],\n",
        "    'Income': [50000, 60000, 45000, 70000, 55000],\n",
        "    'Education Level': ['High School', 'Higher Education', 'High School', 'Higher Education', 'Higher Education']\n",
        "}\n",
        "\n",
        "df = pd.DataFrame(data)\n",
        "\n",
        "# Display the DataFrame\n",
        "print(df)\n"
      ],
      "metadata": {
        "colab": {
          "base_uri": "https://localhost:8080/"
        },
        "id": "NaNFCjcWbYDF",
        "outputId": "27c0d435-c29d-4e29-ac9e-bcb84721dd55"
      },
      "execution_count": null,
      "outputs": [
        {
          "output_type": "stream",
          "name": "stdout",
          "text": [
            "   Age  Income   Education Level\n",
            "0   25   50000       High School\n",
            "1   30   60000  Higher Education\n",
            "2   22   45000       High School\n",
            "3   35   70000  Higher Education\n",
            "4   28   55000  Higher Education\n"
          ]
        }
      ]
    },
    {
      "cell_type": "code",
      "source": [
        "#Split the dataset into training and testing sets\n",
        "X = df[['Age','Income']]\n",
        "y = df['Education Level']\n",
        "\n",
        "# Split the data into training and testing sets\n",
        "X_train ,X_test, y_train, y_test = train_test_split(X,y,test_size = 0.2, random_state = 42)\n",
        "\n",
        "#Initialize and train a inear regression model\n",
        "clf = DecisionTreeClassifier(random_state=42)\n",
        "clf.fit(X_train, y_train)\n",
        "\n",
        "#Make predictions on the test set\n",
        "y_pred = clf.predict(X_test)\n",
        "\n",
        "#Evaluate the model\n",
        "accuracy = accuracy_score(y_test,y_pred)\n",
        "\n",
        "print(f\"Accuracy: {accuracy*100:.2f}%\")  #To print till 2 decimal places"
      ],
      "metadata": {
        "colab": {
          "base_uri": "https://localhost:8080/"
        },
        "id": "VwgZyisAdJP4",
        "outputId": "4fffa0e1-00c7-49a8-eaf1-c2982da8cbcf"
      },
      "execution_count": null,
      "outputs": [
        {
          "output_type": "stream",
          "name": "stdout",
          "text": [
            "Accuracy: 100.00%\n"
          ]
        }
      ]
    },
    {
      "cell_type": "code",
      "source": [
        "#New input\n",
        "new_data = {\n",
        "    'Age':[29],\n",
        "    'Income':[62000],\n",
        "}\n",
        "#Create a dataframe for new input data\n",
        "new_df = pd.DataFrame(new_data)\n",
        "\n",
        "#Use the trained classifier to make predictions for the new data\n",
        "new_predictions=clf.predict(new_df)\n",
        "\n",
        "#Print the predicted cataegory\n",
        "print(\"Predicted Category for the new data:\")\n",
        "for prediction in new_predictions:\n",
        "  print(prediction)"
      ],
      "metadata": {
        "colab": {
          "base_uri": "https://localhost:8080/"
        },
        "id": "VhEk4Yx2dXRD",
        "outputId": "134a9c03-2cfa-40ab-8621-0b6c2f318ef1"
      },
      "execution_count": null,
      "outputs": [
        {
          "output_type": "stream",
          "name": "stdout",
          "text": [
            "Predicted Category for the new data:\n",
            "Higher Education\n"
          ]
        }
      ]
    },
    {
      "cell_type": "code",
      "source": [
        "import pandas as pd\n",
        "import numpy as np\n",
        "from sklearn.model_selection import train_test_split\n",
        "from sklearn.ensemble import RandomForestClassifier\n",
        "from sklearn.metrics import accuracy_score, classification_report\n",
        "\n",
        "# Create a dictionary with columns for independent variables (features) and a dependent variable\n",
        "data = {\n",
        "    'CustomerID': [101,102,103,104,105,106,107,108,109,110],\n",
        "    'Age': [25,30,22,40,35,28,45,50,22,29],\n",
        "    'FrequencyOfVisits': [5,2,6,3,4,5,2,1,7,6],\n",
        "    'AverageOrderValue': [15.5,12.3,18.2,10.5,14.0,16.8,11.2,9.7,19.5,17.2],\n",
        "    'Complaints':[0,1,0,3,2,0,4,0,0,1],\n",
        "    'Churn': [0,1,0,1,1,0,1,0,0,1]\n",
        "}\n",
        "\n",
        "# Create a DataFrame\n",
        "df = pd.DataFrame(data)\n",
        "\n",
        "# Display the DataFrame\n",
        "print(df)"
      ],
      "metadata": {
        "colab": {
          "base_uri": "https://localhost:8080/"
        },
        "id": "DJdyDVhqke9j",
        "outputId": "a08fa997-fe7d-43db-e947-482567bf2c2c"
      },
      "execution_count": null,
      "outputs": [
        {
          "output_type": "stream",
          "name": "stdout",
          "text": [
            "   CustomerID  Age  FrequencyOfVisits  AverageOrderValue  Complaints  Churn\n",
            "0         101   25                  5               15.5           0      0\n",
            "1         102   30                  2               12.3           1      1\n",
            "2         103   22                  6               18.2           0      0\n",
            "3         104   40                  3               10.5           3      1\n",
            "4         105   35                  4               14.0           2      1\n",
            "5         106   28                  5               16.8           0      0\n",
            "6         107   45                  2               11.2           4      1\n",
            "7         108   50                  1                9.7           0      0\n",
            "8         109   22                  7               19.5           0      0\n",
            "9         110   29                  6               17.2           1      1\n"
          ]
        }
      ]
    },
    {
      "cell_type": "code",
      "source": [
        "#Split the dataset into training and testing sets\n",
        "X = df.drop(['CustomerID','Churn'],axis=1)\n",
        "y = df['Churn']\n",
        "\n",
        "# Split the data into training and testing sets\n",
        "X_train ,X_test, y_train, y_test = train_test_split(X,y,test_size = 0.2, random_state = 42)\n",
        "\n",
        "#Initialize and train a inear regression model\n",
        "rf_classifier = RandomForestClassifier(random_state=42)\n",
        "rf_classifier.fit(X_train, y_train)\n",
        "\n",
        "#Make predictions on the test set\n",
        "rf_predictions = rf_classifier.predict(X_test)\n",
        "\n",
        "#Evaluate the classifier\n",
        "accuracy = accuracy_score(y_test,rf_predictions)\n",
        "report=classification_report(y_test,rf_predictions)\n",
        "\n",
        "print(f\"Random forest accuracy: {accuracy}\")\n",
        "print(f\"Classification Report:{report}\")"
      ],
      "metadata": {
        "colab": {
          "base_uri": "https://localhost:8080/"
        },
        "id": "Vj66TAXymHU9",
        "outputId": "582fd734-7c04-4857-f8c3-f6d309da8091"
      },
      "execution_count": null,
      "outputs": [
        {
          "output_type": "stream",
          "name": "stdout",
          "text": [
            "Random forest accuracy: 1.0\n",
            "Classification Report:              precision    recall  f1-score   support\n",
            "\n",
            "           0       1.00      1.00      1.00         1\n",
            "           1       1.00      1.00      1.00         1\n",
            "\n",
            "    accuracy                           1.00         2\n",
            "   macro avg       1.00      1.00      1.00         2\n",
            "weighted avg       1.00      1.00      1.00         2\n",
            "\n"
          ]
        }
      ]
    },
    {
      "cell_type": "code",
      "source": [
        "new_data = {\n",
        "    'Age':[32],\n",
        "    'FrequencyOfVisits':[4],\n",
        "    'AverageOrderValue':[14.5],\n",
        "    'Complaints':[1]\n",
        "}\n",
        "#Create a dataframe for new input data\n",
        "new_df = pd.DataFrame(new_data)\n",
        "\n",
        "#Use the trained classifier to make predictions for the new data\n",
        "new_predictions=rf_classifier.predict(new_df)\n",
        "\n",
        "#Print the predicted cataegory\n",
        "print(\"Predicted Category for the new data:\")\n",
        "for prediction in new_predictions:\n",
        "  print(prediction)\n",
        "\n",
        "#Interpret the predictions\n",
        "if new_predictions[0] == 0:\n",
        "  churn_prediction = \"No Churn\"\n",
        "else:\n",
        "  churn_prediction = \"Churn\"\n",
        "\n",
        "print(\"Churn Prediction for New Customer:\",churn_prediction)"
      ],
      "metadata": {
        "colab": {
          "base_uri": "https://localhost:8080/"
        },
        "id": "YR3FCNoSnOl8",
        "outputId": "868b4f78-6aa6-4dc5-dcd2-080996c73768"
      },
      "execution_count": null,
      "outputs": [
        {
          "output_type": "stream",
          "name": "stdout",
          "text": [
            "Predicted Category for the new data:\n",
            "1\n",
            "Churn Prediction for New Customer: Churn\n"
          ]
        }
      ]
    },
    {
      "cell_type": "code",
      "source": [
        "#Assignment- Prredict the above data frame with logistic, decision tree, and random forest classifiers"
      ],
      "metadata": {
        "id": "M9aGKXfZogoz"
      },
      "execution_count": null,
      "outputs": []
    },
    {
      "cell_type": "code",
      "source": [
        "#predicting with logistic regression\n",
        "import pandas as pd\n",
        "import numpy as np\n",
        "from sklearn.model_selection import train_test_split\n",
        "from sklearn.linear_model import LogisticRegression\n",
        "from sklearn.metrics import accuracy_score, classification_report\n",
        "\n",
        "# Create a dictionary with columns for independent variables (features) and a dependent variable\n",
        "data = {\n",
        "    'CustomerID': [101,102,103,104,105,106,107,108,109,110],\n",
        "    'Age': [25,30,22,40,35,28,45,50,22,29],\n",
        "    'FrequencyOfVisits': [5,2,6,3,4,5,2,1,7,6],\n",
        "    'AverageOrderValue': [15.5,12.3,18.2,10.5,14.0,16.8,11.2,9.7,19.5,17.2],\n",
        "    'Complaints':[0,1,0,3,2,0,4,0,0,1],\n",
        "    'Churn': [0,1,0,1,1,0,1,0,0,1]\n",
        "}\n",
        "\n",
        "# Create a DataFrame\n",
        "df = pd.DataFrame(data)\n",
        "\n",
        "# Display the DataFrame\n",
        "print(df)"
      ],
      "metadata": {
        "colab": {
          "base_uri": "https://localhost:8080/"
        },
        "id": "2xxcqbKRVuTw",
        "outputId": "88f22e48-b7fd-4297-b387-138207c14480"
      },
      "execution_count": null,
      "outputs": [
        {
          "output_type": "stream",
          "name": "stdout",
          "text": [
            "   CustomerID  Age  FrequencyOfVisits  AverageOrderValue  Complaints  Churn\n",
            "0         101   25                  5               15.5           0      0\n",
            "1         102   30                  2               12.3           1      1\n",
            "2         103   22                  6               18.2           0      0\n",
            "3         104   40                  3               10.5           3      1\n",
            "4         105   35                  4               14.0           2      1\n",
            "5         106   28                  5               16.8           0      0\n",
            "6         107   45                  2               11.2           4      1\n",
            "7         108   50                  1                9.7           0      0\n",
            "8         109   22                  7               19.5           0      0\n",
            "9         110   29                  6               17.2           1      1\n"
          ]
        }
      ]
    },
    {
      "cell_type": "code",
      "source": [
        "#Split the dataset into training and testing sets\n",
        "X = df.drop(['CustomerID','Churn'],axis=1)\n",
        "y = df['Churn']\n",
        "\n",
        "# Split the data into training and testing sets\n",
        "X_train ,X_test, y_train, y_test = train_test_split(X,y,test_size = 0.2, random_state = 42)\n",
        "\n",
        "#Initialize and train a inear regression model\n",
        "model = LogisticRegression()\n",
        "model.fit(X_train, y_train)\n",
        "\n",
        "#Make predictions on the test set\n",
        "y_pred = model.predict(X_test)\n",
        "\n",
        "#Evaluate the classifier\n",
        "accuracy = accuracy_score(y_test,y_pred)\n",
        "report=classification_report(y_test,y_pred)\n",
        "\n",
        "print(f\"Logistic regression accuracy: {accuracy}\")\n",
        "print(f\"Classification Report:{report}\")"
      ],
      "metadata": {
        "colab": {
          "base_uri": "https://localhost:8080/"
        },
        "id": "07xUDS4rWLtS",
        "outputId": "3008dcb8-c076-409a-e92e-80e244a13c0c"
      },
      "execution_count": null,
      "outputs": [
        {
          "output_type": "stream",
          "name": "stdout",
          "text": [
            "Random forest accuracy: 0.5\n",
            "Classification Report:              precision    recall  f1-score   support\n",
            "\n",
            "           0       0.50      1.00      0.67         1\n",
            "           1       0.00      0.00      0.00         1\n",
            "\n",
            "    accuracy                           0.50         2\n",
            "   macro avg       0.25      0.50      0.33         2\n",
            "weighted avg       0.25      0.50      0.33         2\n",
            "\n"
          ]
        },
        {
          "output_type": "stream",
          "name": "stderr",
          "text": [
            "/usr/local/lib/python3.10/dist-packages/sklearn/metrics/_classification.py:1344: UndefinedMetricWarning: Precision and F-score are ill-defined and being set to 0.0 in labels with no predicted samples. Use `zero_division` parameter to control this behavior.\n",
            "  _warn_prf(average, modifier, msg_start, len(result))\n",
            "/usr/local/lib/python3.10/dist-packages/sklearn/metrics/_classification.py:1344: UndefinedMetricWarning: Precision and F-score are ill-defined and being set to 0.0 in labels with no predicted samples. Use `zero_division` parameter to control this behavior.\n",
            "  _warn_prf(average, modifier, msg_start, len(result))\n",
            "/usr/local/lib/python3.10/dist-packages/sklearn/metrics/_classification.py:1344: UndefinedMetricWarning: Precision and F-score are ill-defined and being set to 0.0 in labels with no predicted samples. Use `zero_division` parameter to control this behavior.\n",
            "  _warn_prf(average, modifier, msg_start, len(result))\n"
          ]
        }
      ]
    },
    {
      "cell_type": "code",
      "source": [
        "new_data = {\n",
        "    'Age':[32],\n",
        "    'FrequencyOfVisits':[4],\n",
        "    'AverageOrderValue':[14.5],\n",
        "    'Complaints':[1]\n",
        "}\n",
        "#Create a dataframe for new input data\n",
        "new_df = pd.DataFrame(new_data)\n",
        "\n",
        "#Use the trained classifier to make predictions for the new data\n",
        "new_predictions=model.predict(new_df)\n",
        "\n",
        "#Print the predicted cataegory\n",
        "print(\"Predicted Category for the new data:\")\n",
        "for prediction in new_predictions:\n",
        "  print(prediction)\n",
        "\n",
        "#Interpret the predictions\n",
        "if new_predictions[0] == 0:\n",
        "  churn_prediction = \"No Churn\"\n",
        "else:\n",
        "  churn_prediction = \"Churn\"\n",
        "\n",
        "print(\"Churn Prediction for New Customer:\",churn_prediction)"
      ],
      "metadata": {
        "colab": {
          "base_uri": "https://localhost:8080/"
        },
        "id": "brl_y8JvW2JU",
        "outputId": "222331a0-139d-4393-e2ff-ba6029304555"
      },
      "execution_count": null,
      "outputs": [
        {
          "output_type": "stream",
          "name": "stdout",
          "text": [
            "Predicted Category for the new data:\n",
            "0\n",
            "Churn Prediction for New Customer: No Churn\n"
          ]
        }
      ]
    },
    {
      "cell_type": "code",
      "source": [
        "#Predicting with decision tree\n",
        "import pandas as pd\n",
        "import numpy as np\n",
        "from sklearn.model_selection import train_test_split\n",
        "from sklearn.tree import DecisionTreeClassifier\n",
        "from sklearn.metrics import accuracy_score, classification_report\n",
        "\n",
        "# Create a dictionary with columns for independent variables (features) and a dependent variable\n",
        "data = {\n",
        "    'CustomerID': [101,102,103,104,105,106,107,108,109,110],\n",
        "    'Age': [25,30,22,40,35,28,45,50,22,29],\n",
        "    'FrequencyOfVisits': [5,2,6,3,4,5,2,1,7,6],\n",
        "    'AverageOrderValue': [15.5,12.3,18.2,10.5,14.0,16.8,11.2,9.7,19.5,17.2],\n",
        "    'Complaints':[0,1,0,3,2,0,4,0,0,1],\n",
        "    'Churn': [\"No churn\",\"churn\",\"churn\",\"churn\",\"churn\",\"No churn\",\"churn\",\"No churn\",\"No churn\",\"churn\"]\n",
        "}\n",
        "\n",
        "# Create a DataFrame\n",
        "df = pd.DataFrame(data)\n",
        "\n",
        "# Display the DataFrame\n",
        "print(df)"
      ],
      "metadata": {
        "colab": {
          "base_uri": "https://localhost:8080/"
        },
        "id": "LbNtZefuXBOP",
        "outputId": "d263cef6-56c2-48ac-9454-bca17689ca72"
      },
      "execution_count": null,
      "outputs": [
        {
          "output_type": "stream",
          "name": "stdout",
          "text": [
            "   CustomerID  Age  FrequencyOfVisits  AverageOrderValue  Complaints     Churn\n",
            "0         101   25                  5               15.5           0  No churn\n",
            "1         102   30                  2               12.3           1     churn\n",
            "2         103   22                  6               18.2           0     churn\n",
            "3         104   40                  3               10.5           3     churn\n",
            "4         105   35                  4               14.0           2     churn\n",
            "5         106   28                  5               16.8           0  No churn\n",
            "6         107   45                  2               11.2           4     churn\n",
            "7         108   50                  1                9.7           0  No churn\n",
            "8         109   22                  7               19.5           0  No churn\n",
            "9         110   29                  6               17.2           1     churn\n"
          ]
        }
      ]
    },
    {
      "cell_type": "code",
      "source": [
        "#Split the dataset into training and testing sets\n",
        "X = df.drop(['CustomerID','Churn'],axis=1)\n",
        "y = df['Churn']\n",
        "\n",
        "# Split the data into training and testing sets\n",
        "X_train ,X_test, y_train, y_test = train_test_split(X,y,test_size = 0.2, random_state = 42)\n",
        "\n",
        "#Initialize and train  model\n",
        "clf = DecisionTreeClassifier(random_state=42)\n",
        "clf.fit(X_train, y_train)\n",
        "\n",
        "#Make predictions on the test set\n",
        "y_pred = clf.predict(X_test)\n",
        "\n",
        "#Evaluate the classifier\n",
        "accuracy = accuracy_score(y_test,y_pred)\n",
        "report=classification_report(y_test,y_pred)\n",
        "\n",
        "print(f\"Decision Tree accuracy: {accuracy}\")\n",
        "print(f\"Classification Report:{report}\")"
      ],
      "metadata": {
        "colab": {
          "base_uri": "https://localhost:8080/"
        },
        "id": "x_JMWq0EYrTO",
        "outputId": "449c664d-d997-48fd-8f3a-a684561eefdf"
      },
      "execution_count": null,
      "outputs": [
        {
          "output_type": "stream",
          "name": "stdout",
          "text": [
            "Decision Tree accuracy: 0.5\n",
            "Classification Report:              precision    recall  f1-score   support\n",
            "\n",
            "    No churn       0.00      0.00      0.00         1\n",
            "       churn       0.50      1.00      0.67         1\n",
            "\n",
            "    accuracy                           0.50         2\n",
            "   macro avg       0.25      0.50      0.33         2\n",
            "weighted avg       0.25      0.50      0.33         2\n",
            "\n"
          ]
        },
        {
          "output_type": "stream",
          "name": "stderr",
          "text": [
            "/usr/local/lib/python3.10/dist-packages/sklearn/metrics/_classification.py:1344: UndefinedMetricWarning: Precision and F-score are ill-defined and being set to 0.0 in labels with no predicted samples. Use `zero_division` parameter to control this behavior.\n",
            "  _warn_prf(average, modifier, msg_start, len(result))\n",
            "/usr/local/lib/python3.10/dist-packages/sklearn/metrics/_classification.py:1344: UndefinedMetricWarning: Precision and F-score are ill-defined and being set to 0.0 in labels with no predicted samples. Use `zero_division` parameter to control this behavior.\n",
            "  _warn_prf(average, modifier, msg_start, len(result))\n",
            "/usr/local/lib/python3.10/dist-packages/sklearn/metrics/_classification.py:1344: UndefinedMetricWarning: Precision and F-score are ill-defined and being set to 0.0 in labels with no predicted samples. Use `zero_division` parameter to control this behavior.\n",
            "  _warn_prf(average, modifier, msg_start, len(result))\n"
          ]
        }
      ]
    },
    {
      "cell_type": "code",
      "source": [
        "new_data = {\n",
        "    'Age':[32],\n",
        "    'FrequencyOfVisits':[4],\n",
        "    'AverageOrderValue':[14.5],\n",
        "    'Complaints':[1]\n",
        "}\n",
        "#Create a dataframe for new input data\n",
        "new_df = pd.DataFrame(new_data)\n",
        "\n",
        "#Use the trained classifier to make predictions for the new data\n",
        "new_predictions=clf.predict(new_df)\n",
        "\n",
        "#Print the predicted cataegory\n",
        "print(\"Predicted Category for the new data:\")\n",
        "for prediction in new_predictions:\n",
        "  print(prediction)\n",
        "\n",
        "#Interpret the predictions\n",
        "if new_predictions[0] == 0:\n",
        "  churn_prediction = \"No Churn\"\n",
        "else:\n",
        "  churn_prediction = \"Churn\"\n",
        "\n",
        "print(\"Churn Prediction for New Customer:\",churn_prediction)"
      ],
      "metadata": {
        "colab": {
          "base_uri": "https://localhost:8080/"
        },
        "id": "LIApvrdEZPi9",
        "outputId": "7b12438a-fbf7-443a-fa52-fe7568c6f763"
      },
      "execution_count": null,
      "outputs": [
        {
          "output_type": "stream",
          "name": "stdout",
          "text": [
            "Predicted Category for the new data:\n",
            "churn\n",
            "Churn Prediction for New Customer: Churn\n"
          ]
        }
      ]
    }
  ]
}